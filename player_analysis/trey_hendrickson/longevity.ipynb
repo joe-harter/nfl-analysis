{
 "cells": [
  {
   "cell_type": "markdown",
   "metadata": {},
   "source": [
    "## Exploring Ways to Predict Longevity for Defensive Players\n",
    "\n",
    "This is a playground notebook for trying to determine the longevity for Trey Hendrickson. The best I have so far is to look at the distribution of seasons for all players who made it to age 30 in the league and then calculating the survival rate using that data. I think I need to better understand time series analysis (maybe?) and survival analysis to model this more precisely. Other data would be helpful also, like injury likelihood by position or even by player. I'm sure there is some good research out there on the likelihood of a defensive end of Trey's size and history that would provide better insights."
   ]
  },
  {
   "cell_type": "code",
   "execution_count": 333,
   "metadata": {},
   "outputs": [],
   "source": [
    "import pandas as pd\n",
    "import seaborn as sns\n",
    "import sys\n",
    "import matplotlib.pyplot as plt\n",
    "from sklearn import linear_model\n",
    "from common import ROOT_PATH\n",
    "sys.path.append(\"../..\")\n",
    "\n",
    "from utils import get_def_player_stats, get_players_info, get_contract_data"
   ]
  },
  {
   "cell_type": "markdown",
   "metadata": {},
   "source": [
    "### Get the NFLVerse Data\n",
    "\n",
    "The best data I have to work with is the NFLVerse data so I begin by aggregating the statistics that I think will be helpful for this exercise."
   ]
  },
  {
   "cell_type": "code",
   "execution_count": 334,
   "metadata": {},
   "outputs": [],
   "source": [
    "# Offensive positions can still show up in defensive stats (QB tackling someone who intercepted their pass)\n",
    "offensive_positions = [\n",
    "    \"LS\",\n",
    "    \"G\",\n",
    "    \"K\",\n",
    "    \"WR\",\n",
    "    \"TE\",\n",
    "    \"RB\",\n",
    "    \"FB\",\n",
    "    \"P\",\n",
    "    \"OG\",\n",
    "    \"OT\",\n",
    "    \"T\",\n",
    "    \"QB\",\n",
    "    \"OL\",\n",
    "    \"C\",\n",
    "]"
   ]
  },
  {
   "cell_type": "code",
   "execution_count": 335,
   "metadata": {},
   "outputs": [],
   "source": [
    "all_df = get_def_player_stats(list(range(1999, 2025)))\n",
    "\n",
    "# Post seasons stats would skew things\n",
    "all_df = all_df[(all_df[\"season_type\"] == \"REG\") & (~all_df[\"position\"].isin(offensive_positions))]\n",
    "\n",
    "all_df = all_df.rename(columns={\"week\": \"games\"})\n",
    "\n",
    "# Add some players specific information\n",
    "players_df = get_players_info()\n",
    "all_df[\"birth_date\"] = all_df[\"player_id\"].map(\n",
    "    players_df.set_index(\"gsis_id\")[\"birth_date\"], na_action=\"ignore\"\n",
    ")\n",
    "all_df[\"entry_year\"] = all_df[\"player_id\"].map(\n",
    "    players_df.set_index(\"gsis_id\")[\"entry_year\"], na_action=\"ignore\"\n",
    ")\n",
    "all_df[\"status\"] = all_df[\"player_id\"].map(\n",
    "    players_df.set_index(\"gsis_id\")[\"status\"], na_action=\"ignore\"\n",
    ")\n",
    "# Anyone missing a birth date probably isn't in the stats anyways but let's filter out\n",
    "all_df = all_df[all_df[\"birth_date\"].notna()]\n",
    "\n",
    "# Calculate the estimated age for each season. Could consider doing this by week\n",
    "all_df[\"age\"] = all_df[\"season\"] - pd.DatetimeIndex(all_df[\"birth_date\"]).year\n"
   ]
  },
  {
   "cell_type": "code",
   "execution_count": 336,
   "metadata": {},
   "outputs": [],
   "source": [
    "# Build a raw dataframe of all defensive players aggregated by player and season\n",
    "def_df = all_df[\n",
    "    [\n",
    "        \"player_id\",\n",
    "        \"season\",\n",
    "        \"games\",\n",
    "        \"player_display_name\",\n",
    "        \"def_tackles\",\n",
    "        \"def_sacks\",\n",
    "        \"def_tackles_for_loss\",\n",
    "        \"def_qb_hits\",\n",
    "        \"def_interceptions\",\n",
    "        \"age\",\n",
    "    ]\n",
    "]\n",
    "\n",
    "def_df = def_df.groupby([\"player_id\", \"season\"]).agg(\n",
    "    {\n",
    "        \"player_display_name\": \"max\",\n",
    "        \"age\": \"max\",\n",
    "        \"games\": \"count\",\n",
    "        \"def_sacks\": \"sum\",\n",
    "        \"def_tackles\": \"sum\",\n",
    "        \"def_tackles_for_loss\": \"sum\",\n",
    "        \"def_qb_hits\": \"sum\",\n",
    "        \"def_interceptions\": \"sum\",\n",
    "    }\n",
    ")"
   ]
  },
  {
   "cell_type": "code",
   "execution_count": 337,
   "metadata": {},
   "outputs": [],
   "source": [
    "# Build a raw dataframe of retired players aggregated by player and season\n",
    "retired_df = all_df[\n",
    "    ~((all_df[\"status\"] == \"ACT\"))\n",
    "]\n",
    "\n",
    "# Only use columns I care about\n",
    "retired_df = retired_df[\n",
    "    [\n",
    "        \"player_id\",\n",
    "        \"season\",\n",
    "        \"games\",\n",
    "        \"player_display_name\",\n",
    "        \"def_tackles\",\n",
    "        \"def_sacks\",\n",
    "        \"def_tackles_for_loss\",\n",
    "        \"def_qb_hits\",\n",
    "        \"def_interceptions\",\n",
    "        \"age\",\n",
    "        \"status\",\n",
    "        \"position\"\n",
    "    ]\n",
    "]\n",
    "\n",
    "retired_df = retired_df.groupby([\"player_id\", \"season\"]).agg(\n",
    "    {\n",
    "        \"player_display_name\": \"max\",\n",
    "        \"age\": \"max\",\n",
    "        \"games\": \"count\",\n",
    "        \"def_sacks\": \"sum\",\n",
    "        \"def_tackles\": \"sum\",\n",
    "        \"def_tackles_for_loss\": \"sum\",\n",
    "        \"def_qb_hits\": \"sum\",\n",
    "        \"def_interceptions\": \"sum\",\n",
    "        \"status\": \"max\",\n",
    "        \"position\": \"max\"\n",
    "    }\n",
    ")"
   ]
  },
  {
   "cell_type": "markdown",
   "metadata": {},
   "source": [
    "## Graveyard of failed attempts to train a regresser on number of seasons after the player turns 30\n",
    "\n",
    "Attemping any machine learning to perform a regression on defensive players is not fruitful. You can see the correlation matrix a few cells down and we just don't have a good correlation between how well a player performs and how long they will remain in the league.\n",
    "\n",
    "By the end I find just using the survival percentage each season is the best I can do so far."
   ]
  },
  {
   "cell_type": "code",
   "execution_count": 338,
   "metadata": {},
   "outputs": [
    {
     "data": {
      "text/html": [
       "<div>\n",
       "<style scoped>\n",
       "    .dataframe tbody tr th:only-of-type {\n",
       "        vertical-align: middle;\n",
       "    }\n",
       "\n",
       "    .dataframe tbody tr th {\n",
       "        vertical-align: top;\n",
       "    }\n",
       "\n",
       "    .dataframe thead th {\n",
       "        text-align: right;\n",
       "    }\n",
       "</style>\n",
       "<table border=\"1\" class=\"dataframe\">\n",
       "  <thead>\n",
       "    <tr style=\"text-align: right;\">\n",
       "      <th></th>\n",
       "      <th>def_sacks</th>\n",
       "      <th>def_tackles</th>\n",
       "      <th>def_tackles_for_loss</th>\n",
       "      <th>def_qb_hits</th>\n",
       "      <th>def_interceptions</th>\n",
       "      <th>max_age</th>\n",
       "    </tr>\n",
       "    <tr>\n",
       "      <th>player_id</th>\n",
       "      <th></th>\n",
       "      <th></th>\n",
       "      <th></th>\n",
       "      <th></th>\n",
       "      <th></th>\n",
       "      <th></th>\n",
       "    </tr>\n",
       "  </thead>\n",
       "  <tbody>\n",
       "    <tr>\n",
       "      <th>00-0020712</th>\n",
       "      <td>0.336723</td>\n",
       "      <td>0.368155</td>\n",
       "      <td>0.133333</td>\n",
       "      <td>0.269658</td>\n",
       "      <td>0.113333</td>\n",
       "      <td>39.0</td>\n",
       "    </tr>\n",
       "    <tr>\n",
       "      <th>00-0021140</th>\n",
       "      <td>0.686846</td>\n",
       "      <td>0.497741</td>\n",
       "      <td>0.247751</td>\n",
       "      <td>0.451037</td>\n",
       "      <td>0.234215</td>\n",
       "      <td>38.0</td>\n",
       "    </tr>\n",
       "    <tr>\n",
       "      <th>00-0021146</th>\n",
       "      <td>0.732419</td>\n",
       "      <td>0.373153</td>\n",
       "      <td>0.282960</td>\n",
       "      <td>0.481329</td>\n",
       "      <td>0.000000</td>\n",
       "      <td>37.0</td>\n",
       "    </tr>\n",
       "    <tr>\n",
       "      <th>00-0021684</th>\n",
       "      <td>0.055246</td>\n",
       "      <td>0.228794</td>\n",
       "      <td>0.038509</td>\n",
       "      <td>0.035474</td>\n",
       "      <td>0.000000</td>\n",
       "      <td>35.0</td>\n",
       "    </tr>\n",
       "    <tr>\n",
       "      <th>00-0021706</th>\n",
       "      <td>0.294393</td>\n",
       "      <td>0.226748</td>\n",
       "      <td>0.159749</td>\n",
       "      <td>0.335984</td>\n",
       "      <td>0.013889</td>\n",
       "      <td>35.0</td>\n",
       "    </tr>\n",
       "  </tbody>\n",
       "</table>\n",
       "</div>"
      ],
      "text/plain": [
       "            def_sacks  def_tackles  def_tackles_for_loss  def_qb_hits  \\\n",
       "player_id                                                               \n",
       "00-0020712   0.336723     0.368155              0.133333     0.269658   \n",
       "00-0021140   0.686846     0.497741              0.247751     0.451037   \n",
       "00-0021146   0.732419     0.373153              0.282960     0.481329   \n",
       "00-0021684   0.055246     0.228794              0.038509     0.035474   \n",
       "00-0021706   0.294393     0.226748              0.159749     0.335984   \n",
       "\n",
       "            def_interceptions  max_age  \n",
       "player_id                               \n",
       "00-0020712           0.113333     39.0  \n",
       "00-0021140           0.234215     38.0  \n",
       "00-0021146           0.000000     37.0  \n",
       "00-0021684           0.000000     35.0  \n",
       "00-0021706           0.013889     35.0  "
      ]
     },
     "execution_count": 338,
     "metadata": {},
     "output_type": "execute_result"
    }
   ],
   "source": [
    "# Only keep players who have played whole career in the data range\n",
    "supp_df = pd.read_csv(f\"{ROOT_PATH}/data/players_supplemental.csv\")\n",
    "supp_scraped_years = pd.read_csv(f\"{ROOT_PATH}/data/with_entry_year.csv\")\n",
    "\n",
    "supp_df = supp_df[supp_df[\"birth_date\"].str.contains(\"/\") == True]\n",
    "\n",
    "# Players Dataset Preprocessing\n",
    "\n",
    "# Add a new draft_year column based on supplemental data. We'll use this in addition to the provided `entry_year` to determine whether all of the player's seasons are in the dataset.\n",
    "# Consistently format the birth_date column in both dataframes\n",
    "supp_df[\"birth_date\"] = pd.to_datetime(\n",
    "    supp_df[\"birth_date\"], format=\"%m/%d/%Y\", errors=\"ignore\"\n",
    ")\n",
    "players_df[\"birth_date\"] = pd.to_datetime(\n",
    "    players_df[\"birth_date\"], format=\"%Y-%m-%d\", errors=\"ignore\"\n",
    ")\n",
    "merged_players_df = players_df.merge(\n",
    "    supp_df[[\"first_name\", \"last_name\", \"birth_date\", \"draft_year\"]],\n",
    "    on=[\"first_name\", \"last_name\", \"birth_date\"],\n",
    "    how=\"outer\",\n",
    ")\n",
    "\n",
    "\n",
    "def set_entry_year(row):\n",
    "    if row[\"entry_year\"]:\n",
    "        return row[\"entry_year\"]\n",
    "    elif (\n",
    "        supp_scraped_years[supp_scraped_years[\"player_id\"] == row[\"gsis_id\"]].count()\n",
    "        > 0\n",
    "    ):\n",
    "        return supp_scraped_years[supp_scraped_years[\"player_id\"] == row[\"gsis_id\"]][\n",
    "            \"entry_year\"\n",
    "        ]\n",
    "    return row[\"draft_year\"]\n",
    "\n",
    "\n",
    "# set the entry_year to the draft_year if the entry_year is null\n",
    "merged_players_df[\"entry_year\"] = merged_players_df.apply(\n",
    "    set_entry_year,\n",
    "    axis=1,\n",
    ")\n",
    "\n",
    "# Remove any players who have no entry_year or entered the league before 1999\n",
    "merged_players_df = merged_players_df[\n",
    "    (merged_players_df[\"entry_year\"].notnull())\n",
    "    & (merged_players_df[\"entry_year\"] >= 1999)\n",
    "]\n",
    "\n",
    "# Set draft round to 0 if it is null (means undrafted)\n",
    "merged_players_df[\"draftround\"] = merged_players_df.apply(\n",
    "    lambda row: (20 if pd.isnull(row[\"draftround\"]) else row[\"draftround\"]), axis=1\n",
    ")\n",
    "\n",
    "# Set the name to be used later\n",
    "clean_players_df = merged_players_df\n",
    "# Normalized Data\n",
    "pivot_df = def_df.reset_index()\n",
    "pivot_df = pivot_df[pivot_df[\"player_id\"].isin(clean_players_df[\"gsis_id\"].to_list())]\n",
    "pivot_df = pivot_df.pivot(index='player_id', columns='season', values=['def_sacks', 'def_tackles', 'def_tackles_for_loss', 'def_qb_hits', 'def_interceptions', 'age']).fillna(0)\n",
    "normalized_df=(pivot_df-pivot_df.min())/(pivot_df.max()-pivot_df.min())\n",
    "normalized_df['age'] = pivot_df['age'].fillna(0)\n",
    "unpivot_df = normalized_df.stack(level=1).fillna(0)\n",
    "# Remove any rows with all zeros\n",
    "unpivot_df = unpivot_df[(unpivot_df != 0).any(axis=1)]\n",
    "\n",
    "# get all players who played over the age of 30 as a list of player_ids\n",
    "older_than_30 = def_df[def_df['age'] >= 30]\n",
    "older_than_30 = older_than_30.groupby(\"player_id\").last().index.tolist()\n",
    "\n",
    "# remove any players not in older_than_30\n",
    "unpivot_df = unpivot_df[unpivot_df.index.get_level_values(0).isin(older_than_30)]\n",
    "\n",
    "# Add a column with the max age for each player\n",
    "unpivot_df = unpivot_df.reset_index()\n",
    "unpivot_df['max_age'] = unpivot_df.groupby('player_id')['age'].transform('max')\n",
    "\n",
    "# remove all rows where the age is greater than 30\n",
    "unpivot_df = unpivot_df[unpivot_df['age'] <= 30]\n",
    "# average the values for def_sacks, def_tackles, def_tackles_for_loss, def_qb_hits, def_interceptions\n",
    "unpivot_df = unpivot_df.groupby('player_id').agg({\n",
    "    'def_sacks': 'mean',\n",
    "    'def_tackles': 'mean',\n",
    "    'def_tackles_for_loss': 'mean',\n",
    "    'def_qb_hits': 'mean',\n",
    "    'def_interceptions': 'mean',\n",
    "    'max_age': 'max',\n",
    "})\n",
    "unpivot_df.head(5)"
   ]
  },
  {
   "cell_type": "code",
   "execution_count": 339,
   "metadata": {},
   "outputs": [
    {
     "data": {
      "text/plain": [
       "<Axes: >"
      ]
     },
     "execution_count": 339,
     "metadata": {},
     "output_type": "execute_result"
    },
    {
     "data": {
      "image/png": "[encoded data removed]",
      "text/plain": [
       "<Figure size 640x480 with 2 Axes>"
      ]
     },
     "metadata": {},
     "output_type": "display_data"
    }
   ],
   "source": [
    "final_corr_df = unpivot_df.drop(columns=['def_qb_hits', 'def_tackles_for_loss'])\n",
    "sns.heatmap(final_corr_df.corr())"
   ]
  },
  {
   "cell_type": "code",
   "execution_count": 340,
   "metadata": {},
   "outputs": [
    {
     "data": {
      "text/plain": [
       "<matplotlib.collections.PathCollection at 0x316b36050>"
      ]
     },
     "execution_count": 340,
     "metadata": {},
     "output_type": "execute_result"
    },
    {
     "data": {
      "image/png": "[encoded data removed]",
      "text/plain": [
       "<Figure size 640x480 with 1 Axes>"
      ]
     },
     "metadata": {},
     "output_type": "display_data"
    }
   ],
   "source": [
    "# Fit some curve to the data\n",
    "from sklearn import linear_model\n",
    "from sklearn.model_selection import train_test_split\n",
    "\n",
    "train_x, test_x, train_y, test_y = train_test_split(\n",
    "    unpivot_df[['def_sacks', 'def_tackles', 'def_interceptions']].values,\n",
    "    unpivot_df['max_age'].values,\n",
    "    test_size=0.2,\n",
    "    random_state=42)\n",
    "reg = linear_model.LinearRegression()\n",
    "model = reg.fit(train_x, train_y)\n",
    "test_result = model.predict(test_x)\n",
    "plt.scatter(test_y, test_result)"
   ]
  },
  {
   "cell_type": "markdown",
   "metadata": {},
   "source": [
    "### Attempt a Regression\n",
    "\n",
    "Just a cursory attempt at finding any kind of regression based on the available data (sacks, interceptions, and tackles) shows that this data just doesn't reveal any patterns. It would be best to treat all players the same.\n",
    "\n",
    "Additional research into factors that lead to players retiring or being cut might yield more specific predictions for given players. Note: We may want to look at how we might see performance fall off over time."
   ]
  },
  {
   "cell_type": "code",
   "execution_count": 341,
   "metadata": {},
   "outputs": [
    {
     "data": {
      "text/plain": [
       "<matplotlib.collections.PathCollection at 0x316d0c370>"
      ]
     },
     "execution_count": 341,
     "metadata": {},
     "output_type": "execute_result"
    },
    {
     "data": {
      "image/png": "[encoded data removed]",
      "text/plain": [
       "<Figure size 640x480 with 1 Axes>"
      ]
     },
     "metadata": {},
     "output_type": "display_data"
    }
   ],
   "source": [
    "# Use scipy DecisionTreeRegressor to train and then test the test set\n",
    "# plot the predictions vs actual values in the test set\n",
    "from sklearn.tree import DecisionTreeRegressor\n",
    "dt_reg = DecisionTreeRegressor(max_depth=5)\n",
    "dt_model = dt_reg.fit(train_x, train_y)\n",
    "dt_test_result = dt_model.predict(test_x)\n",
    "plt.scatter(test_y, dt_test_result)"
   ]
  },
  {
   "cell_type": "code",
   "execution_count": 342,
   "metadata": {},
   "outputs": [
    {
     "data": {
      "text/plain": [
       "player_id\n",
       "00-0000017    1\n",
       "00-0000065    4\n",
       "00-0000097    3\n",
       "00-0000100    4\n",
       "00-0000136    4\n",
       "             ..\n",
       "00-0034203    1\n",
       "00-0034382    1\n",
       "00-0034760    1\n",
       "00-0034887    1\n",
       "00-0034902    1\n",
       "Name: age, Length: 973, dtype: int64"
      ]
     },
     "execution_count": 342,
     "metadata": {},
     "output_type": "execute_result"
    }
   ],
   "source": [
    "older_than_30 = def_df[def_df['age'] > 30]\n",
    "\n",
    "# Keep the last season for each player and subtract 30 from the age\n",
    "older_than_30 = older_than_30.groupby(\"player_id\").last()\n",
    "older_than_30['age'] = older_than_30['age'] - 30\n",
    "older_than_30['age']"
   ]
  },
  {
   "cell_type": "code",
   "execution_count": 343,
   "metadata": {},
   "outputs": [
    {
     "name": "stderr",
     "output_type": "stream",
     "text": [
      "/var/folders/4b/7v01nk757qsbhc05_11mrdnr0000gn/T/ipykernel_3358/2952973885.py:9: RuntimeWarning: Bounds provided for the following unrecognized parameters will be ignored: {'n'}\n",
      "  res = stats.fit(dist, retired_players_over_30.to_list(), bounds= {'n': (0,.8)})\n"
     ]
    },
    {
     "data": {
      "image/png": "[encoded data removed]",
      "text/plain": [
       "<Figure size 640x480 with 1 Axes>"
      ]
     },
     "metadata": {},
     "output_type": "display_data"
    }
   ],
   "source": [
    "from scipy import stats\n",
    "\n",
    "# Try fitting the data to a geometric distribution (seemed like the closest)\n",
    "retired_des_over_30 = retired_df[\n",
    "        ~((retired_df[\"status\"] == \"ACT\") ) & (retired_df[\"age\"] > 30) & (retired_df[\"position\"].isin([\"DE\", \"DT\"]) )\n",
    "    ].groupby('player_id').last()['age'] - 31\n",
    "\n",
    "dist = stats.geom\n",
    "res = stats.fit(dist, retired_players_over_30.to_list(), bounds= {'n': (0,.8)})\n",
    "res.plot()\n",
    "p, loc = res.params\n",
    "\n"
   ]
  },
  {
   "cell_type": "code",
   "execution_count": 344,
   "metadata": {},
   "outputs": [
    {
     "name": "stdout",
     "output_type": "stream",
     "text": [
      "Reject Null Hypothesis: Data does not fit geometric distribution\n"
     ]
    }
   ],
   "source": [
    "# Does this data reasonably fit a geometric distribution?\n",
    "from collections import Counter\n",
    "predicted = Counter(stats.geom.rvs(p, size=retired_des_over_30.count())-1)\n",
    "actual = Counter(retired_des_over_30.values)\n",
    "\n",
    "# Try to calculate chi squared for goodness of fit\n",
    "chi_diff = 0\n",
    "\n",
    "# Sum of expected - actual^squared / actual\n",
    "for i in range(0,10):\n",
    "    chi_diff += ((predicted[i] - actual[i])**2) / (actual[i])\n",
    "dof = len(predicted.values()) - 1\n",
    "area_of_tail = stats.chi2.sf(chi_diff, dof)\n",
    "if area_of_tail < 0.05:\n",
    "    print(\"Reject Null Hypothesis: Data does not fit geometric distribution\")"
   ]
  },
  {
   "cell_type": "markdown",
   "metadata": {},
   "source": [
    "The samples do not fit a geometric distribution. I used R instead to fit a polynomial line. See below."
   ]
  },
  {
   "cell_type": "markdown",
   "metadata": {},
   "source": [
    "### Now Predict the Longevity of Trey\n",
    "\n",
    "See longevity.R for a simple R script that finds the lower and upper prediction percentages for a defensive player remaining in the NFL for 4 seasons.\n",
    "\n",
    "It resulted in a prediction between 32% and 45%"
   ]
  }
 ],
 "metadata": {
  "kernelspec": {
   "display_name": "nfl-analysis",
   "language": "python",
   "name": "python3"
  },
  "language_info": {
   "codemirror_mode": {
    "name": "ipython",
    "version": 3
   },
   "file_extension": ".py",
   "mimetype": "text/x-python",
   "name": "python",
   "nbconvert_exporter": "python",
   "pygments_lexer": "ipython3",
   "version": "3.10.16"
  }
 },
 "nbformat": 4,
 "nbformat_minor": 2
}
