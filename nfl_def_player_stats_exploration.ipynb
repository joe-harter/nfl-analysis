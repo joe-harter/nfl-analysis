{
 "cells": [
  {
   "cell_type": "code",
   "execution_count": 7,
   "metadata": {},
   "outputs": [],
   "source": [
    "import pandas as pd\n",
    "import seaborn as sns"
   ]
  },
  {
   "cell_type": "markdown",
   "metadata": {},
   "source": [
    "The NFL Data Py package does not offer player stats through their normal service, but the NFLVerse has parquet files we can use directly."
   ]
  },
  {
   "cell_type": "code",
   "execution_count": 2,
   "metadata": {},
   "outputs": [
    {
     "data": {
      "text/html": [
       "<div>\n",
       "<style scoped>\n",
       "    .dataframe tbody tr th:only-of-type {\n",
       "        vertical-align: middle;\n",
       "    }\n",
       "\n",
       "    .dataframe tbody tr th {\n",
       "        vertical-align: top;\n",
       "    }\n",
       "\n",
       "    .dataframe thead th {\n",
       "        text-align: right;\n",
       "    }\n",
       "</style>\n",
       "<table border=\"1\" class=\"dataframe\">\n",
       "  <thead>\n",
       "    <tr style=\"text-align: right;\">\n",
       "      <th></th>\n",
       "      <th>season</th>\n",
       "      <th>week</th>\n",
       "      <th>season_type</th>\n",
       "      <th>player_id</th>\n",
       "      <th>player_name</th>\n",
       "      <th>player_display_name</th>\n",
       "      <th>position</th>\n",
       "      <th>position_group</th>\n",
       "      <th>headshot_url</th>\n",
       "      <th>team</th>\n",
       "      <th>...</th>\n",
       "      <th>def_pass_defended</th>\n",
       "      <th>def_tds</th>\n",
       "      <th>def_fumbles</th>\n",
       "      <th>def_fumble_recovery_own</th>\n",
       "      <th>def_fumble_recovery_yards_own</th>\n",
       "      <th>def_fumble_recovery_opp</th>\n",
       "      <th>def_fumble_recovery_yards_opp</th>\n",
       "      <th>def_safety</th>\n",
       "      <th>def_penalty</th>\n",
       "      <th>def_penalty_yards</th>\n",
       "    </tr>\n",
       "  </thead>\n",
       "  <tbody>\n",
       "    <tr>\n",
       "      <th>0</th>\n",
       "      <td>2024</td>\n",
       "      <td>1</td>\n",
       "      <td>REG</td>\n",
       "      <td>00-0023853</td>\n",
       "      <td>M.Prater</td>\n",
       "      <td>Matt Prater</td>\n",
       "      <td>K</td>\n",
       "      <td>SPEC</td>\n",
       "      <td>https://static.www.nfl.com/image/upload/f_auto...</td>\n",
       "      <td>ARI</td>\n",
       "      <td>...</td>\n",
       "      <td>0.0</td>\n",
       "      <td>0.0</td>\n",
       "      <td>0.0</td>\n",
       "      <td>0.0</td>\n",
       "      <td>0.0</td>\n",
       "      <td>0.0</td>\n",
       "      <td>0.0</td>\n",
       "      <td>0</td>\n",
       "      <td>1.0</td>\n",
       "      <td>0.0</td>\n",
       "    </tr>\n",
       "    <tr>\n",
       "      <th>1</th>\n",
       "      <td>2024</td>\n",
       "      <td>5</td>\n",
       "      <td>REG</td>\n",
       "      <td>00-0026158</td>\n",
       "      <td>J.Flacco</td>\n",
       "      <td>Joe Flacco</td>\n",
       "      <td>QB</td>\n",
       "      <td>QB</td>\n",
       "      <td>https://static.www.nfl.com/image/upload/f_auto...</td>\n",
       "      <td>JAX</td>\n",
       "      <td>...</td>\n",
       "      <td>0.0</td>\n",
       "      <td>0.0</td>\n",
       "      <td>0.0</td>\n",
       "      <td>0.0</td>\n",
       "      <td>0.0</td>\n",
       "      <td>0.0</td>\n",
       "      <td>0.0</td>\n",
       "      <td>0</td>\n",
       "      <td>0.0</td>\n",
       "      <td>0.0</td>\n",
       "    </tr>\n",
       "    <tr>\n",
       "      <th>2</th>\n",
       "      <td>2024</td>\n",
       "      <td>1</td>\n",
       "      <td>REG</td>\n",
       "      <td>00-0026190</td>\n",
       "      <td>C.Campbell</td>\n",
       "      <td>Calais Campbell</td>\n",
       "      <td>DE</td>\n",
       "      <td>DL</td>\n",
       "      <td>https://static.www.nfl.com/image/upload/f_auto...</td>\n",
       "      <td>MIA</td>\n",
       "      <td>...</td>\n",
       "      <td>0.0</td>\n",
       "      <td>0.0</td>\n",
       "      <td>0.0</td>\n",
       "      <td>0.0</td>\n",
       "      <td>0.0</td>\n",
       "      <td>0.0</td>\n",
       "      <td>0.0</td>\n",
       "      <td>0</td>\n",
       "      <td>0.0</td>\n",
       "      <td>0.0</td>\n",
       "    </tr>\n",
       "    <tr>\n",
       "      <th>3</th>\n",
       "      <td>2024</td>\n",
       "      <td>2</td>\n",
       "      <td>REG</td>\n",
       "      <td>00-0026190</td>\n",
       "      <td>C.Campbell</td>\n",
       "      <td>Calais Campbell</td>\n",
       "      <td>DE</td>\n",
       "      <td>DL</td>\n",
       "      <td>https://static.www.nfl.com/image/upload/f_auto...</td>\n",
       "      <td>MIA</td>\n",
       "      <td>...</td>\n",
       "      <td>1.0</td>\n",
       "      <td>0.0</td>\n",
       "      <td>0.0</td>\n",
       "      <td>0.0</td>\n",
       "      <td>0.0</td>\n",
       "      <td>0.0</td>\n",
       "      <td>0.0</td>\n",
       "      <td>0</td>\n",
       "      <td>0.0</td>\n",
       "      <td>0.0</td>\n",
       "    </tr>\n",
       "    <tr>\n",
       "      <th>4</th>\n",
       "      <td>2024</td>\n",
       "      <td>3</td>\n",
       "      <td>REG</td>\n",
       "      <td>00-0026190</td>\n",
       "      <td>C.Campbell</td>\n",
       "      <td>Calais Campbell</td>\n",
       "      <td>DE</td>\n",
       "      <td>DL</td>\n",
       "      <td>https://static.www.nfl.com/image/upload/f_auto...</td>\n",
       "      <td>MIA</td>\n",
       "      <td>...</td>\n",
       "      <td>1.0</td>\n",
       "      <td>0.0</td>\n",
       "      <td>0.0</td>\n",
       "      <td>0.0</td>\n",
       "      <td>0.0</td>\n",
       "      <td>0.0</td>\n",
       "      <td>0.0</td>\n",
       "      <td>0</td>\n",
       "      <td>0.0</td>\n",
       "      <td>0.0</td>\n",
       "    </tr>\n",
       "  </tbody>\n",
       "</table>\n",
       "<p>5 rows × 32 columns</p>\n",
       "</div>"
      ],
      "text/plain": [
       "   season  week season_type   player_id player_name player_display_name  \\\n",
       "0    2024     1         REG  00-0023853    M.Prater         Matt Prater   \n",
       "1    2024     5         REG  00-0026158    J.Flacco          Joe Flacco   \n",
       "2    2024     1         REG  00-0026190  C.Campbell     Calais Campbell   \n",
       "3    2024     2         REG  00-0026190  C.Campbell     Calais Campbell   \n",
       "4    2024     3         REG  00-0026190  C.Campbell     Calais Campbell   \n",
       "\n",
       "  position position_group                                       headshot_url  \\\n",
       "0        K           SPEC  https://static.www.nfl.com/image/upload/f_auto...   \n",
       "1       QB             QB  https://static.www.nfl.com/image/upload/f_auto...   \n",
       "2       DE             DL  https://static.www.nfl.com/image/upload/f_auto...   \n",
       "3       DE             DL  https://static.www.nfl.com/image/upload/f_auto...   \n",
       "4       DE             DL  https://static.www.nfl.com/image/upload/f_auto...   \n",
       "\n",
       "  team  ...  def_pass_defended  def_tds  def_fumbles  def_fumble_recovery_own  \\\n",
       "0  ARI  ...                0.0      0.0          0.0                      0.0   \n",
       "1  JAX  ...                0.0      0.0          0.0                      0.0   \n",
       "2  MIA  ...                0.0      0.0          0.0                      0.0   \n",
       "3  MIA  ...                1.0      0.0          0.0                      0.0   \n",
       "4  MIA  ...                1.0      0.0          0.0                      0.0   \n",
       "\n",
       "   def_fumble_recovery_yards_own  def_fumble_recovery_opp  \\\n",
       "0                            0.0                      0.0   \n",
       "1                            0.0                      0.0   \n",
       "2                            0.0                      0.0   \n",
       "3                            0.0                      0.0   \n",
       "4                            0.0                      0.0   \n",
       "\n",
       "   def_fumble_recovery_yards_opp  def_safety  def_penalty  def_penalty_yards  \n",
       "0                            0.0           0          1.0                0.0  \n",
       "1                            0.0           0          0.0                0.0  \n",
       "2                            0.0           0          0.0                0.0  \n",
       "3                            0.0           0          0.0                0.0  \n",
       "4                            0.0           0          0.0                0.0  \n",
       "\n",
       "[5 rows x 32 columns]"
      ]
     },
     "execution_count": 2,
     "metadata": {},
     "output_type": "execute_result"
    }
   ],
   "source": [
    "def_df = pd.read_parquet('https://github.com/nflverse/nflverse-data/releases/download/player_stats/player_stats_def_2024.parquet', engine='auto')\n",
    "def_df.head()"
   ]
  },
  {
   "cell_type": "code",
   "execution_count": 3,
   "metadata": {},
   "outputs": [
    {
     "data": {
      "text/plain": [
       "Index(['season', 'week', 'season_type', 'player_id', 'player_name',\n",
       "       'player_display_name', 'position', 'position_group', 'headshot_url',\n",
       "       'team', 'def_tackles', 'def_tackles_solo', 'def_tackles_with_assist',\n",
       "       'def_tackle_assists', 'def_tackles_for_loss',\n",
       "       'def_tackles_for_loss_yards', 'def_fumbles_forced', 'def_sacks',\n",
       "       'def_sack_yards', 'def_qb_hits', 'def_interceptions',\n",
       "       'def_interception_yards', 'def_pass_defended', 'def_tds', 'def_fumbles',\n",
       "       'def_fumble_recovery_own', 'def_fumble_recovery_yards_own',\n",
       "       'def_fumble_recovery_opp', 'def_fumble_recovery_yards_opp',\n",
       "       'def_safety', 'def_penalty', 'def_penalty_yards'],\n",
       "      dtype='object')"
      ]
     },
     "execution_count": 3,
     "metadata": {},
     "output_type": "execute_result"
    }
   ],
   "source": [
    "def_df.columns"
   ]
  },
  {
   "cell_type": "code",
   "execution_count": 4,
   "metadata": {},
   "outputs": [
    {
     "data": {
      "text/plain": [
       "array(['REG', 'POST'], dtype=object)"
      ]
     },
     "execution_count": 4,
     "metadata": {},
     "output_type": "execute_result"
    }
   ],
   "source": [
    "def_df['season_type'].unique() # REGular and POSTseason games"
   ]
  },
  {
   "cell_type": "code",
   "execution_count": null,
   "metadata": {},
   "outputs": [
    {
     "data": {
      "text/plain": [
       "<Axes: xlabel='def_qb_hits', ylabel='Count'>"
      ]
     },
     "execution_count": 22,
     "metadata": {},
     "output_type": "execute_result"
    },
    {
     "data": {
      "image/png": "[encoded data removed]",
      "text/plain": [
       "<Figure size 640x480 with 1 Axes>"
      ]
     },
     "metadata": {},
     "output_type": "display_data"
    },
    {
     "data": {
      "image/png": "[encoded data removed]",
      "text/plain": [
       "<Figure size 640x480 with 1 Axes>"
      ]
     },
     "metadata": {},
     "output_type": "display_data"
    },
    {
     "data": {
      "image/png": "[encoded data removed]",
      "text/plain": [
       "<Figure size 640x480 with 1 Axes>"
      ]
     },
     "metadata": {},
     "output_type": "display_data"
    },
    {
     "data": {
      "image/png": "[encoded data removed]",
      "text/plain": [
       "<Figure size 640x480 with 1 Axes>"
      ]
     },
     "metadata": {},
     "output_type": "display_data"
    }
   ],
   "source": [
    "import matplotlib.pyplot as plt\n",
    "\n",
    "sacks_df = (\n",
    "    def_df[def_df[\"position\"] == \"DE\"]\n",
    "    .groupby([\"player_id\", \"season\"])\n",
    "    .agg(\n",
    "        {\n",
    "            \"player_display_name\": \"max\",\n",
    "            \"week\": \"count\",\n",
    "            \"team\": \"max\",\n",
    "            \"def_tackles\": \"sum\",\n",
    "            \"def_tackles_for_loss\": \"sum\",\n",
    "            \"def_tackles_for_loss_yards\": \"sum\",\n",
    "            \"def_sacks\": \"sum\",\n",
    "            \"def_qb_hits\": \"sum\",\n",
    "        }\n",
    "    )\n",
    ")\n",
    "fig1, tackles_ax = plt.subplots()\n",
    "fig2, tfl_ax = plt.subplots()\n",
    "fig3, sacks_ax = plt.subplots()\n",
    "fig4, qbh_ax = plt.subplots()\n",
    "sns.histplot(data=sacks_df, x=\"def_tackles\", binwidth=0.5, ax=tackles_ax)\n",
    "sns.histplot(data=sacks_df, x=\"def_tackles_for_loss\", binwidth=0.5, ax=tfl_ax)\n",
    "sns.histplot(data=sacks_df, x=\"def_sacks\", binwidth=0.5, ax=sacks_ax)\n",
    "sns.histplot(data=sacks_df, x=\"def_qb_hits\", binwidth=0.5, ax=qbh_ax)"
   ]
  }
 ],
 "metadata": {
  "kernelspec": {
   "display_name": "nfl-analysis",
   "language": "python",
   "name": "python3"
  },
  "language_info": {
   "codemirror_mode": {
    "name": "ipython",
    "version": 3
   },
   "file_extension": ".py",
   "mimetype": "text/x-python",
   "name": "python",
   "nbconvert_exporter": "python",
   "pygments_lexer": "ipython3",
   "version": "3.10.16"
  }
 },
 "nbformat": 4,
 "nbformat_minor": 2
}
